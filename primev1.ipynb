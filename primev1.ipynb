{
 "cells": [
  {
   "cell_type": "code",
   "execution_count": 1,
   "metadata": {},
   "outputs": [],
   "source": [
    "import pandas as pd\n",
    "import numpy as np"
   ]
  },
  {
   "cell_type": "code",
   "execution_count": 3,
   "metadata": {},
   "outputs": [],
   "source": [
    "df = pd.read_csv(\"C:\\\\Job hunt\\\\databases\\\\amazonPrime\\\\data.csv\")"
   ]
  },
  {
   "cell_type": "code",
   "execution_count": 4,
   "metadata": {},
   "outputs": [
    {
     "data": {
      "text/html": [
       "<div>\n",
       "<style scoped>\n",
       "    .dataframe tbody tr th:only-of-type {\n",
       "        vertical-align: middle;\n",
       "    }\n",
       "\n",
       "    .dataframe tbody tr th {\n",
       "        vertical-align: top;\n",
       "    }\n",
       "\n",
       "    .dataframe thead th {\n",
       "        text-align: right;\n",
       "    }\n",
       "</style>\n",
       "<table border=\"1\" class=\"dataframe\">\n",
       "  <thead>\n",
       "    <tr style=\"text-align: right;\">\n",
       "      <th></th>\n",
       "      <th>title</th>\n",
       "      <th>type</th>\n",
       "      <th>genres</th>\n",
       "      <th>releaseYear</th>\n",
       "      <th>imdbId</th>\n",
       "      <th>imdbAverageRating</th>\n",
       "      <th>imdbNumVotes</th>\n",
       "      <th>availableCountries</th>\n",
       "    </tr>\n",
       "  </thead>\n",
       "  <tbody>\n",
       "    <tr>\n",
       "      <th>0</th>\n",
       "      <td>Blondie</td>\n",
       "      <td>movie</td>\n",
       "      <td>Comedy, Family</td>\n",
       "      <td>1938.0</td>\n",
       "      <td>tt0029927</td>\n",
       "      <td>6.9</td>\n",
       "      <td>886.0</td>\n",
       "      <td>US, ZA</td>\n",
       "    </tr>\n",
       "    <tr>\n",
       "      <th>1</th>\n",
       "      <td>Ariel</td>\n",
       "      <td>movie</td>\n",
       "      <td>Comedy, Crime, Romance</td>\n",
       "      <td>1988.0</td>\n",
       "      <td>tt0094675</td>\n",
       "      <td>7.4</td>\n",
       "      <td>8765.0</td>\n",
       "      <td>JP</td>\n",
       "    </tr>\n",
       "    <tr>\n",
       "      <th>2</th>\n",
       "      <td>Four Rooms</td>\n",
       "      <td>movie</td>\n",
       "      <td>Comedy</td>\n",
       "      <td>1995.0</td>\n",
       "      <td>tt0113101</td>\n",
       "      <td>6.7</td>\n",
       "      <td>112584.0</td>\n",
       "      <td>AT, DE</td>\n",
       "    </tr>\n",
       "    <tr>\n",
       "      <th>3</th>\n",
       "      <td>Judgment Night</td>\n",
       "      <td>movie</td>\n",
       "      <td>Action, Crime, Drama</td>\n",
       "      <td>1993.0</td>\n",
       "      <td>tt0107286</td>\n",
       "      <td>6.6</td>\n",
       "      <td>19300.0</td>\n",
       "      <td>US</td>\n",
       "    </tr>\n",
       "    <tr>\n",
       "      <th>4</th>\n",
       "      <td>Forrest Gump</td>\n",
       "      <td>movie</td>\n",
       "      <td>Drama, Romance</td>\n",
       "      <td>1994.0</td>\n",
       "      <td>tt0109830</td>\n",
       "      <td>8.8</td>\n",
       "      <td>2317346.0</td>\n",
       "      <td>AD, AT, CU, DE, IN, JP, SN</td>\n",
       "    </tr>\n",
       "  </tbody>\n",
       "</table>\n",
       "</div>"
      ],
      "text/plain": [
       "            title   type                  genres  releaseYear     imdbId  \\\n",
       "0         Blondie  movie          Comedy, Family       1938.0  tt0029927   \n",
       "1           Ariel  movie  Comedy, Crime, Romance       1988.0  tt0094675   \n",
       "2      Four Rooms  movie                  Comedy       1995.0  tt0113101   \n",
       "3  Judgment Night  movie    Action, Crime, Drama       1993.0  tt0107286   \n",
       "4    Forrest Gump  movie          Drama, Romance       1994.0  tt0109830   \n",
       "\n",
       "   imdbAverageRating  imdbNumVotes          availableCountries  \n",
       "0                6.9         886.0                      US, ZA  \n",
       "1                7.4        8765.0                          JP  \n",
       "2                6.7      112584.0                      AT, DE  \n",
       "3                6.6       19300.0                          US  \n",
       "4                8.8     2317346.0  AD, AT, CU, DE, IN, JP, SN  "
      ]
     },
     "execution_count": 4,
     "metadata": {},
     "output_type": "execute_result"
    }
   ],
   "source": [
    "df.head()"
   ]
  }
 ],
 "metadata": {
  "kernelspec": {
   "display_name": "Python 3",
   "language": "python",
   "name": "python3"
  },
  "language_info": {
   "codemirror_mode": {
    "name": "ipython",
    "version": 3
   },
   "file_extension": ".py",
   "mimetype": "text/x-python",
   "name": "python",
   "nbconvert_exporter": "python",
   "pygments_lexer": "ipython3",
   "version": "3.10.3"
  }
 },
 "nbformat": 4,
 "nbformat_minor": 2
}
